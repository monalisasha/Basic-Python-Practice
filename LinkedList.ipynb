{
 "cells": [
  {
   "cell_type": "markdown",
   "metadata": {},
   "source": [
    "### LinkedList Insertion"
   ]
  },
  {
   "cell_type": "code",
   "execution_count": 10,
   "metadata": {},
   "outputs": [
    {
     "name": "stdout",
     "output_type": "stream",
     "text": [
      "Created linked list is:\n",
      "1\n",
      "7\n",
      "8\n",
      "6\n",
      "4\n"
     ]
    }
   ],
   "source": [
    "#Node Class\n",
    "class Node:\n",
    "    \n",
    "    #Inititlizing\n",
    "    def __init__(self,data):\n",
    "        self.data = data\n",
    "        self.next = None\n",
    "\n",
    "#Linkedlist class\n",
    "class LinkedList:\n",
    "    \n",
    "    #Empty Linkedlist\n",
    "    def __init__(self):\n",
    "        self.head = None\n",
    "    \n",
    "    #Inserting a node at the beginning of the linkedlist\n",
    "    def push(self, new_data):\n",
    "        new_node = Node(new_data)\n",
    "        \n",
    "        new_node.next = self.head\n",
    "        \n",
    "        self.head = new_node\n",
    "        \n",
    "    #Inserting a node after a particular node\n",
    "    def insertingnode(self, prev_node, new_data):\n",
    "        \n",
    "        if prev_node == None:\n",
    "            print(\"The given previous node must inLinkedList.\")\n",
    "            return\n",
    "        \n",
    "        #Create new node\n",
    "        new_node = Node(new_data)\n",
    "        \n",
    "        #next of new node is same as next of prev_node\n",
    "        new_node.next = prev_node.next\n",
    "        \n",
    "        #Now make next of prev_node is the new node\n",
    "        \n",
    "        prev_node.next = new_node\n",
    "        \n",
    "    #add a new node at the end of a linkedlist\n",
    "    def append(self, new_data):\n",
    "        \n",
    "        new_node = Node(new_data)\n",
    "        \n",
    "        if self.head is None:\n",
    "            self.head = new_node\n",
    "            return\n",
    "        \n",
    "        #tranverse through the linkedlist till reach last node\n",
    "        last =  self.head\n",
    "        \n",
    "        while(last.next):\n",
    "            last = last.next\n",
    "        \n",
    "        last.next = new_node\n",
    "\n",
    "    #Traversing through each node and printing\n",
    "    def printlist(self):\n",
    "        temp = self.head\n",
    "        \n",
    "        while(temp):\n",
    "            print(temp.data)\n",
    "            temp = temp.next\n",
    "        \n",
    "        \n",
    "if __name__== '__main__':\n",
    "    \n",
    "    # Start with the empty list \n",
    "    llist = LinkedList() \n",
    "  \n",
    "    # Insert 6.  So linked list becomes 6->None \n",
    "    llist.append(6) \n",
    "  \n",
    "    # Insert 7 at the beginning. So linked list becomes 7->6->None \n",
    "    llist.push(7); \n",
    "  \n",
    "    # Insert 1 at the beginning. So linked list becomes 1->7->6->None \n",
    "    llist.push(1); \n",
    "  \n",
    "    # Insert 4 at the end. So linked list becomes 1->7->6->4->None \n",
    "    llist.append(4) \n",
    "  \n",
    "    # Insert 8, after 7. So linked list becomes 1 -> 7-> 8-> 6-> 4-> None \n",
    "    llist.insertingnode(llist.head.next, 8) \n",
    "  \n",
    "    print ('Created linked list is:')\n",
    "    llist.printlist() \n",
    "  \n",
    "    \n",
    "    \n",
    "      \n",
    "#     llist.head = Node(1)\n",
    "#     second = Node(2)\n",
    "#     third = Node(3)\n",
    "    \n",
    "#     llist.head.next = second\n",
    "#     second.next = third\n",
    "    \n",
    "#     llist.printlist()\n",
    "    "
   ]
  },
  {
   "cell_type": "markdown",
   "metadata": {},
   "source": [
    "### Linkedlist Deletion"
   ]
  },
  {
   "cell_type": "code",
   "execution_count": null,
   "metadata": {},
   "outputs": [],
   "source": []
  }
 ],
 "metadata": {
  "kernelspec": {
   "display_name": "Python 3",
   "language": "python",
   "name": "python3"
  },
  "language_info": {
   "codemirror_mode": {
    "name": "ipython",
    "version": 3
   },
   "file_extension": ".py",
   "mimetype": "text/x-python",
   "name": "python",
   "nbconvert_exporter": "python",
   "pygments_lexer": "ipython3",
   "version": "3.8.3"
  }
 },
 "nbformat": 4,
 "nbformat_minor": 4
}
