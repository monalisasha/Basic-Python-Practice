{
 "cells": [
  {
   "cell_type": "markdown",
   "metadata": {},
   "source": [
    "### Binary Tree"
   ]
  },
  {
   "cell_type": "code",
   "execution_count": 29,
   "metadata": {},
   "outputs": [
    {
     "name": "stdout",
     "output_type": "stream",
     "text": [
      "Inorder traversal before insertion: 7 11 10 15 9 8 \n",
      "Inorder traversal after insertion: 7 11 12 10 15 9 8 "
     ]
    }
   ],
   "source": [
    "class newNode:\n",
    "    def __init__(self, data):\n",
    "        self.left = None\n",
    "        self.right = None\n",
    "        self.val = data\n",
    "        \n",
    "\"\"\"function to insert element in binary tree \"\"\"\n",
    "def insert(temp, data):\n",
    "    if (not temp):\n",
    "        temp = newNode(data)\n",
    "        return\n",
    "    q = []\n",
    "    q.append(temp)\n",
    "\n",
    "    # Do level order traversal until we find \n",
    "    # an empty place. \n",
    "    while (len(q)):\n",
    "        temp = q[0]\n",
    "        q.pop(0)\n",
    "\n",
    "        if (not temp.left):\n",
    "            temp.left = newNode(data)\n",
    "            break\n",
    "        else:\n",
    "            q.append(temp.left)\n",
    "\n",
    "        if (not temp.right):\n",
    "            temp.right = newNode(data)\n",
    "            break\n",
    "        else:\n",
    "            q.append(temp.right)\n",
    "\n",
    "\n",
    "\"\"\" Inorder traversal of a binary tree\"\"\"\n",
    "def inorder(temp):\n",
    "    if (not temp):\n",
    "        return\n",
    "\n",
    "    inorder(temp.left)\n",
    "    print(temp.val,end= \" \")\n",
    "    inorder(temp.right)\n",
    "\n",
    "        \n",
    "# Driver code \n",
    "if __name__ == '__main__':\n",
    "    root = newNode(10) \n",
    "    root.left = newNode(11) \n",
    "    root.left.left = newNode(7) \n",
    "    root.right = newNode(9) \n",
    "    root.right.left = newNode(15) \n",
    "    root.right.right = newNode(8) \n",
    " \n",
    "    print(\"Inorder traversal before insertion:\", end = \" \")\n",
    "    inorder(root) \n",
    " \n",
    "    data = 12\n",
    "    insert(root, data) \n",
    "     \n",
    "    print()\n",
    "    print(\"Inorder traversal after insertion:\", end = \" \")\n",
    "    inorder(root)"
   ]
  },
  {
   "cell_type": "markdown",
   "metadata": {},
   "source": [
    "### Binary Search Tree (Search and Insertion)"
   ]
  },
  {
   "cell_type": "code",
   "execution_count": 33,
   "metadata": {},
   "outputs": [
    {
     "name": "stdout",
     "output_type": "stream",
     "text": [
      "20\n",
      "30\n",
      "40\n",
      "50\n",
      "60\n",
      "70\n",
      "80\n"
     ]
    }
   ],
   "source": [
    "class Node:\n",
    "    def __init__(self, key):\n",
    "        self.left = None\n",
    "        self.right = None\n",
    "        self.val = key\n",
    "        \n",
    "\n",
    "def search(root, key):\n",
    "    if root is None or root.val == key:\n",
    "        return root\n",
    "    \n",
    "    if key < root.val:\n",
    "        return search(root.left, key)\n",
    "    return search(root.right, key)\n",
    "\n",
    "def insertKey(root, key):\n",
    "    if root is None:\n",
    "        return Node(key)\n",
    "    else:\n",
    "        if root.val == key:\n",
    "            return root\n",
    "        elif root.val < key:\n",
    "            root.right = insertKey(root.right, key)\n",
    "        else:\n",
    "            root.left = insertKey(root.left, key)\n",
    "    return root\n",
    "\n",
    "def inorder(root):\n",
    "    if root:\n",
    "        inorder(root.left)\n",
    "        print(root.val)\n",
    "        inorder(root.right)\n",
    "\n",
    "r = Node(50)\n",
    "r = insert(r, 30)\n",
    "r = insert(r, 20)\n",
    "r = insert(r, 40)\n",
    "r = insert(r, 70)\n",
    "r = insert(r, 60)\n",
    "r = insert(r, 80)\n",
    "\n",
    "inorder(r)\n",
    "\n",
    "            \n",
    "    "
   ]
  },
  {
   "cell_type": "markdown",
   "metadata": {},
   "source": [
    "### Graphs"
   ]
  },
  {
   "cell_type": "markdown",
   "metadata": {},
   "source": [
    "### 1. adjacency list representation of the graph "
   ]
  },
  {
   "cell_type": "code",
   "execution_count": 9,
   "metadata": {},
   "outputs": [
    {
     "name": "stdout",
     "output_type": "stream",
     "text": [
      "Adjacency list of vertex 0\n",
      " head -> 4 -> 1 \n",
      "\n",
      "Adjacency list of vertex 1\n",
      " head -> 4 -> 3 -> 2 -> 0 \n",
      "\n",
      "Adjacency list of vertex 2\n",
      " head -> 3 -> 1 \n",
      "\n",
      "Adjacency list of vertex 3\n",
      " head -> 4 -> 2 -> 1 \n",
      "\n",
      "Adjacency list of vertex 4\n",
      " head -> 3 -> 1 -> 0 \n",
      "\n"
     ]
    }
   ],
   "source": [
    "# A class to represent the adjacency list of the node \n",
    "class AdjNode:\n",
    "    def __init__(self, data):\n",
    "        self.vertex = data\n",
    "        self.next = None\n",
    "        \n",
    "# A class to represent a graph. A graph \n",
    "# is the list of the adjacency lists. \n",
    "# Size of the array will be the no. of the \n",
    "# vertices \"V\" \n",
    "\n",
    "class Graph:\n",
    "    def __init__(self, vertices):\n",
    "        self.V = vertices\n",
    "        self.graph = [None] * self.V #Size of the list is no of vertices\n",
    "        \n",
    "    # Function to add an edge in an undirected graph \n",
    "    def addEdge(self, srcs, dest):\n",
    "        # Adding the node to the source node\n",
    "        destnode = AdjNode(dest)\n",
    "        destnode.next = self.graph[srcs]\n",
    "        self.graph[srcs] = destnode\n",
    "        \n",
    "        #Adding the source node to the destination node\n",
    "        srcnode = AdjNode(srcs)\n",
    "        srcnode.next = self.graph[dest]\n",
    "        self.graph[dest] = srcnode\n",
    "        \n",
    "    # Function to print the graph \n",
    "    def print_graph(self): \n",
    "        for i in range(self.V):\n",
    "            print(\"Adjacency list of vertex {}\\n head\".format(i), end=\"\")\n",
    "            temp = self.graph[i]\n",
    "            while(temp):\n",
    "                print(\" -> {}\".format(temp.vertex), end=\"\") \n",
    "                temp = temp.next\n",
    "            print(\" \\n\") \n",
    "\n",
    "        \n",
    "# Driver program to the above graph class \n",
    "if __name__ == \"__main__\": \n",
    "    V = 5\n",
    "    graph = Graph(V) \n",
    "    graph.addEdge(0, 1) \n",
    "    graph.addEdge(0, 4) \n",
    "    graph.addEdge(1, 2) \n",
    "    graph.addEdge(1, 3) \n",
    "    graph.addEdge(1, 4) \n",
    "    graph.addEdge(2, 3) \n",
    "    graph.addEdge(3, 4) \n",
    "  \n",
    "    graph.print_graph() \n",
    "            \n",
    "        \n",
    "        "
   ]
  },
  {
   "cell_type": "code",
   "execution_count": null,
   "metadata": {},
   "outputs": [],
   "source": []
  },
  {
   "cell_type": "code",
   "execution_count": null,
   "metadata": {},
   "outputs": [],
   "source": []
  }
 ],
 "metadata": {
  "kernelspec": {
   "display_name": "Python 3",
   "language": "python",
   "name": "python3"
  },
  "language_info": {
   "codemirror_mode": {
    "name": "ipython",
    "version": 3
   },
   "file_extension": ".py",
   "mimetype": "text/x-python",
   "name": "python",
   "nbconvert_exporter": "python",
   "pygments_lexer": "ipython3",
   "version": "3.8.3"
  }
 },
 "nbformat": 4,
 "nbformat_minor": 4
}
