{
 "cells": [
  {
   "cell_type": "markdown",
   "metadata": {},
   "source": [
    "### Binary Tree"
   ]
  },
  {
   "cell_type": "code",
   "execution_count": 29,
   "metadata": {},
   "outputs": [
    {
     "name": "stdout",
     "output_type": "stream",
     "text": [
      "Inorder traversal before insertion: 7 11 10 15 9 8 \n",
      "Inorder traversal after insertion: 7 11 12 10 15 9 8 "
     ]
    }
   ],
   "source": [
    "class newNode:\n",
    "    def __init__(self, data):\n",
    "        self.left = None\n",
    "        self.right = None\n",
    "        self.val = data\n",
    "        \n",
    "\"\"\"function to insert element in binary tree \"\"\"\n",
    "def insert(temp, data):\n",
    "    if (not temp):\n",
    "        temp = newNode(data)\n",
    "        return\n",
    "    q = []\n",
    "    q.append(temp)\n",
    "\n",
    "    # Do level order traversal until we find \n",
    "    # an empty place. \n",
    "    while (len(q)):\n",
    "        temp = q[0]\n",
    "        q.pop(0)\n",
    "\n",
    "        if (not temp.left):\n",
    "            temp.left = newNode(data)\n",
    "            break\n",
    "        else:\n",
    "            q.append(temp.left)\n",
    "\n",
    "        if (not temp.right):\n",
    "            temp.right = newNode(data)\n",
    "            break\n",
    "        else:\n",
    "            q.append(temp.right)\n",
    "\n",
    "\n",
    "\"\"\" Inorder traversal of a binary tree\"\"\"\n",
    "def inorder(temp):\n",
    "    if (not temp):\n",
    "        return\n",
    "\n",
    "    inorder(temp.left)\n",
    "    print(temp.val,end= \" \")\n",
    "    inorder(temp.right)\n",
    "\n",
    "        \n",
    "# Driver code \n",
    "if __name__ == '__main__':\n",
    "    root = newNode(10) \n",
    "    root.left = newNode(11) \n",
    "    root.left.left = newNode(7) \n",
    "    root.right = newNode(9) \n",
    "    root.right.left = newNode(15) \n",
    "    root.right.right = newNode(8) \n",
    " \n",
    "    print(\"Inorder traversal before insertion:\", end = \" \")\n",
    "    inorder(root) \n",
    " \n",
    "    data = 12\n",
    "    insert(root, data) \n",
    "     \n",
    "    print()\n",
    "    print(\"Inorder traversal after insertion:\", end = \" \")\n",
    "    inorder(root)"
   ]
  },
  {
   "cell_type": "markdown",
   "metadata": {},
   "source": [
    "### Binary Search Tree (Search and Insertion)"
   ]
  },
  {
   "cell_type": "code",
   "execution_count": 33,
   "metadata": {},
   "outputs": [
    {
     "name": "stdout",
     "output_type": "stream",
     "text": [
      "20\n",
      "30\n",
      "40\n",
      "50\n",
      "60\n",
      "70\n",
      "80\n"
     ]
    }
   ],
   "source": [
    "class Node:\n",
    "    def __init__(self, key):\n",
    "        self.left = None\n",
    "        self.right = None\n",
    "        self.val = key\n",
    "        \n",
    "\n",
    "def search(root, key):\n",
    "    if root is None or root.val == key:\n",
    "        return root\n",
    "    \n",
    "    if key < root.val:\n",
    "        return search(root.left, key)\n",
    "    return search(root.right, key)\n",
    "\n",
    "def insertKey(root, key):\n",
    "    if root is None:\n",
    "        return Node(key)\n",
    "    else:\n",
    "        if root.val == key:\n",
    "            return root\n",
    "        elif root.val < key:\n",
    "            root.right = insertKey(root.right, key)\n",
    "        else:\n",
    "            root.left = insertKey(root.left, key)\n",
    "    return root\n",
    "\n",
    "def inorder(root):\n",
    "    if root:\n",
    "        inorder(root.left)\n",
    "        print(root.val)\n",
    "        inorder(root.right)\n",
    "\n",
    "r = Node(50)\n",
    "r = insert(r, 30)\n",
    "r = insert(r, 20)\n",
    "r = insert(r, 40)\n",
    "r = insert(r, 70)\n",
    "r = insert(r, 60)\n",
    "r = insert(r, 80)\n",
    "\n",
    "inorder(r)\n",
    "\n",
    "            \n",
    "    "
   ]
  },
  {
   "cell_type": "code",
   "execution_count": null,
   "metadata": {},
   "outputs": [],
   "source": []
  }
 ],
 "metadata": {
  "kernelspec": {
   "display_name": "Python 3",
   "language": "python",
   "name": "python3"
  },
  "language_info": {
   "codemirror_mode": {
    "name": "ipython",
    "version": 3
   },
   "file_extension": ".py",
   "mimetype": "text/x-python",
   "name": "python",
   "nbconvert_exporter": "python",
   "pygments_lexer": "ipython3",
   "version": "3.8.3"
  }
 },
 "nbformat": 4,
 "nbformat_minor": 4
}
